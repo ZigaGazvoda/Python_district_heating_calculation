{
 "cells": [
  {
   "cell_type": "code",
   "execution_count": null,
   "metadata": {},
   "outputs": [],
   "source": [
    "%load_ext lab_black"
   ]
  },
  {
   "cell_type": "code",
   "execution_count": null,
   "metadata": {},
   "outputs": [],
   "source": [
    "import numpy as np\n",
    "import pandas as pd\n",
    "import geopandas as gpd\n",
    "import shapefile\n",
    "from shapely import wkt\n",
    "import matplotlib.pyplot as plt\n",
    "\n",
    "\n",
    "from tespy.components import source, sink, heat_exchanger_simple, pipe\n",
    "from tespy.connections import connection, bus, ref\n",
    "from tespy.networks import network\n",
    "\n",
    "from sub_consumer import fork as fo\n",
    "\n",
    "\n",
    "from functions import *\n",
    "\n",
    "\n",
    "\n",
    "nw = network(fluids=['water'], T_unit='C', p_unit='bar', h_unit='kJ / kg')\n",
    "so = source('source')\n",
    "si = sink('sink')"
   ]
  },
  {
   "cell_type": "markdown",
   "metadata": {},
   "source": [
    "THis is the manual cell of the code, USER! has to define path to his raw data, which is represented by 4 tables: \n",
    "- pipes (containing geometry, DN,Year,Type...), \n",
    "- consumers (containing Power, geometry, Adress),\n",
    "- Roughness (containing data how pipe roughness changes through years, since aging is not linear),\n",
    "- Pipe data (Defines pipe atributes like heat transfer, roughness, diameter...).\n",
    "\n",
    "It is possible to directly load shape files, but need to be changed into geopandas GeoDataFrame.\n",
    "\n",
    "The end product of the is table of users with ADRESS, Power and geometry columns.\n",
    "For pipes, end product is table of pipes with BUILD_DATE, DIMENSION, geometry, LENGTH, POSITION columns.\n",
    "\n",
    "Then, we define paths to download folder and name of downloaded selected pipes, which we select for calculation in the selection phase.\n",
    "In the end we define starting EPSG codes in which the input geometry data for pipes and users are imported. "
   ]
  },
  {
   "cell_type": "code",
   "execution_count": null,
   "metadata": {},
   "outputs": [],
   "source": [
    "path_data_raw = \"data/raw/\"\n",
    "df_pipes=pd.read_csv(path_data_raw + \"Pipes\")\n",
    "df_users=pd.read_csv(path_data_raw + \"Consumers.csv\",sep=\";\",encoding = \"ISO-8859-1\")\n",
    "Roughness = pd.read_csv(path_data_raw + \"Roughness_aging.csv\",sep=\";\", header = None)\n",
    "df_pipe_data=pd.read_csv(path_data_raw + \"Pipes_data.csv\",sep=\";\",encoding = \"ISO-8859-1\")\n",
    "\n",
    "\n",
    "#Define to W units, currently data of kW set to 1/2th of nominal user power, so the factor is 1000/2\n",
    "Power_units = 500\n",
    "\n",
    "#Define starting pipe, first start with known ID\n",
    "start_pipe_ID = 1\n",
    "\n",
    "#delete pipes with writing IDs in list\n",
    "delete_pipes_IDs = [100000,100001]\n",
    "\n",
    "#define pressure drop on user in Pascals, value has to be negative\n",
    "user_p_drop = -0.75*10**5\n",
    "\n",
    "#manipulating user data and creating GeoDataFrame\n",
    "df_users = df_users.rename(columns={'COORDINATE X': 'x', 'COORDINATE Y': 'y','POWER [kW]':'Power'})\n",
    "df_users = gpd.GeoDataFrame(df_users, geometry=gpd.points_from_xy(df_users.x, df_users.y))\n",
    "df_users[\"Power\"]=df_users[\"Power\"]*Power_units\n",
    "\n",
    "#manipulating pipe data and creating GeoDataFrame\n",
    "df_pipes[\"geometry\"] = df_pipes[\"geometry\"].astype(str)\n",
    "df_pipes[\"geometry\"] = df_pipes[\"geometry\"].apply(wkt.loads)\n",
    "df_pipes = gpd.GeoDataFrame(df_pipes, geometry= df_pipes[\"geometry\"])\n",
    "df_pipes[\"LENGTH\"] = df_pipes[\"geometry\"].length\n",
    "df_pipes = df_pipes.rename(columns={'NAZIVNI_PR': 'DIMENSION', 'DATUM_GRAD': 'BUILD_DATE','LENGTH_3D':\"LENGTH\",\"LEGA\":\"POSITION\"})\n",
    "\n",
    "#df_users_table - - this should output table of this cell and used for whole code !!!!!!!!!!!!!!!!!!!!!!!!\n",
    "df_users=df_users[[\"ADRESS\",\"Power\",\"geometry\"]]\n",
    "\n",
    "\n",
    "#df_pipes table - this should output table of this cell and used for whole code !!!!!!!!!!!!!!!!!!!!!!!!\n",
    "df_pipes=df_pipes[[\"BUILD_DATE\",\"DIMENSION\",\"geometry\",\"LENGTH\",\"POSITION\"]].copy()\n",
    "\n",
    "\n",
    "#define path to your downloads folder\n",
    "path = \"C:/Users/Gazvoda/Desktop/Magistrska/Suhadol_DHS/data/processed/\"\n",
    "#define name of Selectedpipes without the .txt, predefined is Selected_pipes\n",
    "name_downloaded = \"SelectedPipes\"\n",
    "\n",
    "#Here we define starting EPSG codes (currently Slovenian D96 coordinate system) in which the input geometry data for pipes and users are imported. \n",
    "pipesEPSG = \"epsg:3912\"\n",
    "usersEPSG = \"epsg:3912\""
   ]
  },
  {
   "cell_type": "markdown",
   "metadata": {},
   "source": [
    "In next cell coordinates systems are changed to WGS 84 / Pseudo-Mercator coordinate systems, which allows importation of background maps."
   ]
  },
  {
   "cell_type": "code",
   "execution_count": null,
   "metadata": {},
   "outputs": [],
   "source": [
    "df_pipes.crs = {'init': pipesEPSG}\n",
    "df_pipes=df_pipes.to_crs(\"EPSG:3857\")\n",
    "df_users.crs = {'init': usersEPSG}\n",
    "df_users=df_users.to_crs(\"EPSG:3857\")"
   ]
  },
  {
   "cell_type": "markdown",
   "metadata": {},
   "source": [
    "In the next block, data manipulation for pipes and users tables is done. End product for pipes table contains additional columns:\n",
    "- ID, Age, node_ups, node dws, USER_ID\n",
    "\n",
    "Node ups represent geometry of the pipe's upstream node, node dws represent geometry of the pipe's downstream node.\n",
    "USER_ID tells you if pipe has any consumers attached (if it is end pipe) and which\n",
    "\n",
    "End product for users table contains additional columns:\n",
    "- USER_ID, ID, dist\n",
    "\n",
    "ID is the nearest pipe, which user will be connected to, dist is distance to the pipe in meters.\n"
   ]
  },
  {
   "cell_type": "code",
   "execution_count": null,
   "metadata": {},
   "outputs": [],
   "source": [
    "df_users = Get_ID(df_users)\n",
    "df_pipes = Get_age_ID_pipe(df_pipes)\n",
    "df_users = ckdnearest(df_users, df_pipes)\n",
    "df_pipes = Get_coords(df_pipes,df_users)"
   ]
  },
  {
   "cell_type": "markdown",
   "metadata": {},
   "source": [
    "In the next block, selection process is done. Running it opens a new window with pipes and users. After selecting area of calculation with lasso select tool (normally all pipes are selected, but the tool comes handy if geometry data is faulty or if system is too big - selection is based on pipes, so there is no need to select users too), clicking select pipes and click open_file, then save it in your path folder (which is data processed folder in project folder), output is df_pipes_c and df_users_c, which are our selected pipes and users for calculation. REMINDER: if there is already a SelectedFiles document in processed data folder, a new window can simply be closed, and we skip to next block of code."
   ]
  },
  {
   "cell_type": "code",
   "execution_count": null,
   "metadata": {},
   "outputs": [],
   "source": [
    "selection_tool(df_pipes,df_users)\n",
    "selected_pipes = get_selected_pipes(df_pipes,path,name_downloaded)\n",
    "selected_pipes = delete_pipes(delete_pipes_IDs,selected_pipes)\n",
    "df_pipes = delete_df_pipes_columns(df_pipes)\n",
    "df_pipes_c, df_users_c = calculation_pipes(selected_pipes,df_pipes,df_users)"
   ]
  },
  {
   "cell_type": "markdown",
   "metadata": {},
   "source": [
    "In the next line, a function DHS_map that is used for vizualization is used (It can be used before selection process). It has following parametres:\n",
    "- PIPES:\n",
    "- pipes (currently df_pipes_c, is a table with pipes info)\n",
    "- start_pipe_ID (defined in manual block of code at the begining is used for Plant location and plotting)\n",
    "- linewidth_column (is a column from pipes table, which we want to use for width of the plotted pipes, default: DIMENSION)\n",
    "- linewidth_factor (is a value, with which we manipulate thickness of pipes to a sensible result)\n",
    "- color_presentation (is a name of the column which we want to use for colors of the pipes, default: Age)\n",
    "- CONSUMERS:\n",
    "- users (currently df_users_c, is a table with users info)\n",
    "- markersize_users_factor (is a value, with which we manipulate the size of markers representing user power)\n",
    "- cons_annotation (is a value that defines if users are annotated or not, True/False, default: False)\n",
    "- cons_annotation_column (is a column that we want to use as annotation text, default: USER_ID)"
   ]
  },
  {
   "cell_type": "code",
   "execution_count": null,
   "metadata": {},
   "outputs": [],
   "source": [
    "DHS_map(df_pipes_c, df_users_c, start_pipe_ID, linewidth_factor=1/5, markersize_users_factor = 1/100)"
   ]
  },
  {
   "cell_type": "markdown",
   "metadata": {},
   "source": [
    "In the next block of code, following operations are done:\n",
    "- created is df_pipes_data table, which contains all pipe attributes (roughness, diameter, heat transfer coefficent). It is based on initial input pipe_data and roughness. For every pipe, based on it's type, age and diameter, appropriate values are calculated and put into table.\n",
    "- created is df_connections_table, which contains ID,next pipes ID and previous pipe IDs for current pipe. It is possible, that pipe has two next pipes, in which case, current row (ID) is doubled, the only difference between two rows is ID_next. For example, if pipe with ID 9, has previous pipe of ID 8 and next pipes with IDs 10 and 11:\n",
    "  - first row: ID:9, ID_previous:8, ID_next:10\n",
    "  - second row: ID:9, ID_previous:8, ID_next:11\n",
    "- based on connections table, forks (when 1 pipe splits into 2) are defined, end pipes are defined, and tables with specific connecion type are defined:\n",
    "  - pipe_pipe, pipe_user, user_pipe, fork_pipe, pipe_fork"
   ]
  },
  {
   "cell_type": "code",
   "execution_count": null,
   "metadata": {},
   "outputs": [],
   "source": [
    "df_pipe_data = pipe_data(df_pipe_data)\n",
    "df_pipes_data = pipes_characteristics(df_pipe_data,Roughness,df_pipes_c)"
   ]
  },
  {
   "cell_type": "code",
   "execution_count": null,
   "metadata": {},
   "outputs": [],
   "source": [
    "df_connections = connections_ready_for_checking_downstream(df_pipes_c)\n",
    "check_downstream(start_pipe_ID, df_connections)"
   ]
  },
  {
   "cell_type": "code",
   "execution_count": null,
   "metadata": {},
   "outputs": [],
   "source": [
    "df_connections = df_connections.drop_duplicates(subset = [\"ID\"], keep = \"first\")\n",
    "df_connections = df_connections.dropna(subset=[\"pipeNext\"])\n",
    "df_connections = df_connections[[\"ID\",\"pipeNext\"]]\n",
    "df_connections = df_connections.reset_index(drop = True)"
   ]
  },
  {
   "cell_type": "code",
   "execution_count": null,
   "metadata": {},
   "outputs": [],
   "source": [
    "df_pipes = df_pipes.merge(df_connections, how=\"outer\", on = \"ID\")"
   ]
  },
  {
   "cell_type": "code",
   "execution_count": null,
   "metadata": {},
   "outputs": [],
   "source": [
    "df_pipes = df_pipes.drop_duplicates(subset = [\"ID\"])"
   ]
  },
  {
   "cell_type": "code",
   "execution_count": null,
   "metadata": {},
   "outputs": [],
   "source": [
    "df_connections = connections_ready_for_checking_downstream(df_pipes_c)\n",
    "check_downstream(start_pipe_ID, df_connections)\n",
    "\n",
    "df_forks_data,df_connections_saved = get_forks_data(df_connections)\n",
    "df_connections = get_fork_exit(df_connections_saved,df_users_c,df_forks_data)\n",
    "\n",
    "closest_pipes = get_closest_pipes(df_connections,df_pipes_c,df_users_c,df_users)\n",
    "\n",
    "df_pipes_c = df_pipes_c.drop_duplicates(subset = \"ID\")\n",
    "\n",
    "\n",
    "end_pipes=end_pipes_f(df_connections,closest_pipes,user_p_drop)\n",
    "\n",
    "df_pipe_user = get_pipe_user_connections(df_connections)\n",
    "df_pipe_pipe = get_pipe_pipe_connections(df_connections)\n",
    "df_fork_pipe = get_fork_pipe_connections(df_connections)\n",
    "df_pipe_fork = get_pipe_fork_connections(df_connections)"
   ]
  },
  {
   "cell_type": "code",
   "execution_count": null,
   "metadata": {},
   "outputs": [],
   "source": [
    "df_connections = df_connections.drop_duplicates(subset=['ID', 'ID_next'], keep='last')"
   ]
  },
  {
   "cell_type": "markdown",
   "metadata": {},
   "source": [
    "Next block, TESPy objects are defined:\n",
    "- feed pipes (pf)\n",
    "- return pipes (pb)\n",
    "- fork (f)\n",
    "- consumers (cons)\n",
    "- connections\n",
    "\n",
    "TESPy uses those object for calculation."
   ]
  },
  {
   "cell_type": "code",
   "execution_count": null,
   "metadata": {},
   "outputs": [],
   "source": [
    "pf = pipe_feed_definition(df_pipes_data)\n",
    "pb = pipe_return_definition(df_pipes_data)\n",
    "k = forks(df_forks_data)\n",
    "\n",
    "nw = add_subsys(k,nw)\n",
    "\n",
    "cons = consumers(end_pipes)\n",
    "\n",
    "so_start = define_connections_so_start(start_pipe_ID,pf,so)\n",
    "start_si = define_connections_start_si(start_pipe_ID,pb,si)\n",
    "pipe_pipe_f = define_connections_pipe_pipe_feed(df_pipe_pipe,pf)\n",
    "pipe_pipe_b = define_connections_pipe_pipe_back(df_pipe_pipe,pb)\n",
    "pipe_user = define_connections_pipe_user(df_pipe_user,end_pipes,pf,cons)\n",
    "user_pipe = define_connections_user_pipe(end_pipes,pb,cons,pipe_user)\n",
    "fork_pipe_f1 = define_connections_fork_pipe_1_feed(df_fork_pipe,k,pf)\n",
    "fork_pipe_b1 = define_connections_fork_pipe_1_back(df_fork_pipe,k,pb)\n",
    "fork_pipe_f2 = define_connections_fork_pipe_2_feed(df_fork_pipe,k,pf)\n",
    "fork_pipe_b2 = define_connections_fork_pipe_2_back(df_fork_pipe,k,pb)\n",
    "pipe_fork_f = define_connections_pipe_fork_feed(df_pipe_fork,df_fork_pipe,k,pf)\n",
    "pipe_fork_b = define_connections_pipe_fork_back(df_pipe_fork,df_fork_pipe,k,pb,fork_pipe_b1)\n",
    "\n",
    "\n",
    "nw = add_connections(nw,\n",
    "                     so_start,\n",
    "                     start_si,\n",
    "                     pipe_pipe_f,\n",
    "                     pipe_pipe_b,\n",
    "                     pipe_user,\n",
    "                     user_pipe,\n",
    "                     fork_pipe_f1,\n",
    "                     fork_pipe_b1,\n",
    "                     fork_pipe_f2,\n",
    "                     fork_pipe_b2,\n",
    "                     pipe_fork_f,\n",
    "                     pipe_fork_b)"
   ]
  },
  {
   "cell_type": "markdown",
   "metadata": {},
   "source": [
    "Defining busses for TESPy:"
   ]
  },
  {
   "cell_type": "code",
   "execution_count": null,
   "metadata": {},
   "outputs": [],
   "source": [
    "heat_losses = bus('network losses')\n",
    "heat_consumer = bus('network consumer')\n",
    "nw.check_network()\n",
    "nw.add_busses(heat_losses, heat_consumer)"
   ]
  },
  {
   "cell_type": "markdown",
   "metadata": {},
   "source": [
    "Defining boundary conditions for calculation:\n",
    "    - so_start represents starting conditions in the plant\n",
    "    - start_si represents returning conditions to the plant\n",
    "    - user_pipe represents connection between user and first return pipe, defining Temperature here defines the temp. that user will return back to the network.\n",
    "    - Tamb is the ambient temperature\n"
   ]
  },
  {
   "cell_type": "code",
   "execution_count": null,
   "metadata": {},
   "outputs": [],
   "source": [
    "so_start.set_attr(T = 80)   \n",
    "so_start.set_attr(p = None)  \n",
    "start_si.set_attr(p = 4.5)  \n",
    "start_si.set_attr(T = None) \n",
    "for element in user_pipe:\n",
    "    user_pipe[element].set_attr(T=55)\n",
    "\n",
    "for comp in nw.comps.index:\n",
    "    if isinstance(comp, pipe):\n",
    "        comp.set_attr(Tamb=0)\n",
    "\n",
    "        heat_losses.add_comps({'comp': comp})\n",
    "        comp.char_warnings=False\n",
    "\n",
    "    if (isinstance(comp, heat_exchanger_simple) and\n",
    "            not isinstance(comp, pipe)):\n",
    "        heat_consumer.add_comps({'comp': comp})\n",
    "        comp.char_warnings=False\n"
   ]
  },
  {
   "cell_type": "markdown",
   "metadata": {},
   "source": [
    "Calculation, WARNING: for init_path There has to be a folder with grid calculation results already (first calculation is done without it). "
   ]
  },
  {
   "cell_type": "code",
   "execution_count": null,
   "metadata": {},
   "outputs": [],
   "source": [
    "nw.solve('design',init_path = \"Masters_DHS\")\n"
   ]
  },
  {
   "cell_type": "markdown",
   "metadata": {},
   "source": [
    "Saving grid results for easier next calculation, (this grid is then used as init_path in next rerun)"
   ]
  },
  {
   "cell_type": "code",
   "execution_count": null,
   "metadata": {},
   "outputs": [],
   "source": [
    "nw.save(\"Masters_DHS\")"
   ]
  },
  {
   "cell_type": "markdown",
   "metadata": {},
   "source": [
    "In the next line the results are added to tables os users and pipes:\n",
    "- T_feed and p_feed to users table, table with results is called df_users_results\n",
    "- pipe_heat_losses to every pipe, table with results is called df_pipes_results"
   ]
  },
  {
   "cell_type": "code",
   "execution_count": null,
   "metadata": {},
   "outputs": [],
   "source": [
    "df_pipes_results,df_users_results = get_results(df_pipes_c,end_pipes,df_users_c,pf,user_pipe,pipe_user,df_users)"
   ]
  },
  {
   "cell_type": "markdown",
   "metadata": {},
   "source": [
    "In next line, some of the most needed results info is printed:"
   ]
  },
  {
   "cell_type": "code",
   "execution_count": null,
   "metadata": {},
   "outputs": [],
   "source": [
    "print_results(heat_consumer,heat_losses,so_start,start_si)"
   ]
  },
  {
   "cell_type": "markdown",
   "metadata": {},
   "source": [
    "Again DHS_map is used, but this time with different parametres, annotation is used for determining user feed temperature, and for pipes, heat losses are the area of interest."
   ]
  },
  {
   "cell_type": "code",
   "execution_count": null,
   "metadata": {},
   "outputs": [],
   "source": [
    "DHS_map(df_pipes_results,\n",
    "        df_users_results,\n",
    "        start_pipe_ID,\n",
    "        color_presentation = \"pipe_heat_losses\",\n",
    "        linewidth_column = \"pipe_heat_losses\", \n",
    "        linewidth_factor = 1/75,\n",
    "        markersize_users_factor = 1/200,\n",
    "        cons_annotation = True,\n",
    "        cons_annotation_column = \"T_feed\")"
   ]
  }
 ],
 "metadata": {
  "kernelspec": {
   "display_name": "ENV",
   "language": "python",
   "name": "env"
  },
  "language_info": {
   "codemirror_mode": {
    "name": "ipython",
    "version": 3
   },
   "file_extension": ".py",
   "mimetype": "text/x-python",
   "name": "python",
   "nbconvert_exporter": "python",
   "pygments_lexer": "ipython3",
   "version": "3.6.10"
  }
 },
 "nbformat": 4,
 "nbformat_minor": 4
}
